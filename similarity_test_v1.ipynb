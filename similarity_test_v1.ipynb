{
 "cells": [
  {
   "cell_type": "markdown",
   "metadata": {},
   "source": [
    "# Notas reunión Jesús  \n",
    "\n",
    "1.- Afinidad He: tiene valores negativos la raíz\n",
    "\n",
    "Gauss:  distancia eucídea  \n",
    "l1: distancia l1. suma de los valores absolutos  \n",
    "He: distancia euclídea de la raíz de las componentes (ignorar)  \n",
    "\n",
    "convierte la distancia ne similitud\n",
    "\n",
    "th_gauss: similitud que me sale como mínimo    \n",
    "\n",
    "distancia emd_distance (WMD en embeddings)  \n",
    "\n",
    "pyemd (libreria) \n",
    "\n",
    "gensim(?)  \n",
    "coste = 1-S  \n",
    "minimiza o maximiza? admite costes negativos?  matrices sparse?  \n",
    "\n",
    "\n",
    "Por qué se traspone Kw?   \n",
    "$S = F @ (Kw.T)^n @ F.T$"
   ]
  },
  {
   "cell_type": "code",
   "execution_count": 9,
   "metadata": {},
   "outputs": [],
   "source": [
    "from gensim.models import KeyedVectors\n",
    "import gensim\n",
    "from gensim.test.utils import common_texts\n",
    "\n",
    "import os\n",
    "import subprocess\n",
    "\n",
    "import wikipediaapi\n",
    "\n",
    "from time import monotonic as timer\n",
    "\n",
    "import pandas as pd\n",
    "\n",
    "import numpy as np\n",
    "\n",
    "\n",
    "from nltk import download\n",
    "from nltk.tokenize import word_tokenize\n",
    "from nltk.stem import WordNetLemmatizer\n",
    "from nltk.corpus import stopwords\n",
    "\n",
    "import sys\n",
    "\n",
    "from pprint import pprint\n",
    "\n",
    "pd.options.display.max_columns = None\n",
    "\n",
    "from scipy import sparse\n",
    "\n",
    "\n",
    "from sim_graph0 import *"
   ]
  },
  {
   "cell_type": "markdown",
   "metadata": {},
   "source": [
    "# Load the embeddings"
   ]
  },
  {
   "cell_type": "code",
   "execution_count": 2,
   "metadata": {},
   "outputs": [],
   "source": [
    "wv = KeyedVectors.load('./TSC_Corpus1')"
   ]
  },
  {
   "cell_type": "code",
   "execution_count": 3,
   "metadata": {},
   "outputs": [
    {
     "name": "stdout",
     "output_type": "stream",
     "text": [
      "Number of tokens on this corpus: 4404\n",
      "The first n tokens are  ['abel', 'abstract', 'abstraction', 'abstractness']\n"
     ]
    }
   ],
   "source": [
    "tokens = list(wv.vocab.keys())\n",
    "print(\"Number of tokens on this corpus:\", len(tokens))\n",
    "print(\"The first n tokens are \", tokens[0:4])"
   ]
  },
  {
   "cell_type": "markdown",
   "metadata": {},
   "source": [
    "# Create a pandas dataframe containing word embeddings...  \n",
    "\n",
    "~~and normalize each token so all the rows sum up to 1~~"
   ]
  },
  {
   "cell_type": "code",
   "execution_count": 6,
   "metadata": {},
   "outputs": [
    {
     "name": "stdout",
     "output_type": "stream",
     "text": [
      "(4404, 301)\n"
     ]
    }
   ],
   "source": [
    "data = {'token': tokens}\n",
    "for n in range(wv.vector_size):\n",
    "    data[n] = [wv[token][n] for token in tokens]\n",
    "    \n",
    "df = pd.DataFrame(data = data)\n",
    "\n",
    "\n",
    "# Normalize\n",
    "mat_a = np.matrix(df.iloc[:, 1:])\n",
    "# mat_a /= mat_a.sum(axis=1)\n",
    "\n",
    "# df.iloc[:, 1:] = mat_a\n",
    "# print(df.sum(axis = 1))\n",
    "\n",
    "print(df.shape)"
   ]
  },
  {
   "cell_type": "markdown",
   "metadata": {},
   "source": [
    "# Get the embedding matrix (drop the token column)"
   ]
  },
  {
   "cell_type": "code",
   "execution_count": 7,
   "metadata": {},
   "outputs": [],
   "source": [
    "matrix = df.drop(columns = 'token').values"
   ]
  },
  {
   "cell_type": "markdown",
   "metadata": {},
   "source": [
    "# Compute the similarity matrix: $K_w$  \n",
    "\n",
    "taking in account that $K_w$ is an sparse matrix (i.e, it's represented as a list of non-zero values).  \n",
    "\n",
    "For that purpose, several similarity functions can be used. At this moment, _Gauss_ (i.e Euclidean distance) and _L1_ distances are available.  \n",
    "Improving the overall computing time, a distance threshold is used (_R_). This threshold allows us to set to 0 all the tokens (points) which distance (computed using the mentioned methods) is bigger than R.   \n",
    "The bigger the R, the denser $K_w$ will be (i.e, more non-zero values)."
   ]
  },
  {
   "cell_type": "code",
   "execution_count": 8,
   "metadata": {},
   "outputs": [],
   "source": [
    "sim = SimGraph(matrix)\n",
    "\n",
    "similarity_list = ['l1', 'Gauss']\n",
    "similarity = similarity_list[1]\n",
    "\n",
    "\n",
    "th_gauss = 0.2\n",
    "R = 3\n",
    "sim.computeGraph(R=R,  similarity=similarity, th_gauss=th_gauss)"
   ]
  },
  {
   "cell_type": "code",
   "execution_count": 10,
   "metadata": {},
   "outputs": [
    {
     "name": "stdout",
     "output_type": "stream",
     "text": [
      "Number of non-zero values:  8468\n"
     ]
    }
   ],
   "source": [
    "affinity_Kw = np.array(sim.affinityT)\n",
    "edge_Kw = np.array(sim.edgeT_id)\n",
    "\n",
    "print(\"Number of non-zero values: \", len(affinity_Kw))"
   ]
  },
  {
   "cell_type": "markdown",
   "metadata": {},
   "source": [
    "on this case, $K_w$ is refered as a combination of coordinates (_edgeKw_) and the actual value of each position (affinity_Kw).  \n",
    "So, we can rewrite those vectors (using matricial notation):  \n",
    "\n",
    "$$  \n",
    "edge\\_K_w = [p_1, p_2, \\dots, p_n]^T\n",
    "$$\n",
    "\n",
    "where the value of each point (i.e $p_i$) is given by the _affinity _Kw_ vector:\n",
    "$$  \n",
    "affinity\\_K_w = [a_1, a_2, \\dots, a_n]^T\n",
    "$$"
   ]
  },
  {
   "cell_type": "markdown",
   "metadata": {},
   "source": [
    "# Get the dense matrix from the given vectors (it may be necessary)"
   ]
  },
  {
   "cell_type": "code",
   "execution_count": 40,
   "metadata": {},
   "outputs": [],
   "source": [
    "Kw = np.zeros([len(tokens), len(tokens)])\n",
    "Kw[edge_Kw[:, 0], edge_Kw[:, 1]] = affinity_Kw\n",
    "\n",
    "Kw = sparse.coo_matrix(Kw)Areas of mathematics\n"
   ]
  },
  {
   "cell_type": "code",
   "execution_count": 42,
   "metadata": {},
   "outputs": [
    {
     "data": {
      "image/png": "[encoded data removed]",
      "text/plain": [
       "<Figure size 720x432 with 1 Axes>"
      ]
     },
     "metadata": {
      "needs_background": "light"
     },
     "output_type": "display_data"
    }
   ],
   "source": [
    "import matplotlib.pyplot as plt \n",
    "plt.figure(figsize = [10, 6])\n",
    "plt.plot(np.sort(affinity_Kw));\n",
    "plt.xticks([]); plt.xlabel('$c_{ij}$', size = 15); plt.ylabel('', size = 15); plt.title('Similarity using ' + similarity +\" method.\");"
   ]
  },
  {
   "cell_type": "code",
   "execution_count": 171,
   "metadata": {},
   "outputs": [
    {
     "name": "stdout",
     "output_type": "stream",
     "text": [
      "Getting definition of  Mathematics\n",
      "Getting definition of  Economics\n",
      "Getting definition of  Philosophy\n",
      "Getting definition of  Art\n",
      "Getting definition of  Areas of mathematics\n",
      "Getting definition of  Wall Street\n",
      "Number of Documents:  6\n",
      "\n",
      "Done\n",
      "\n",
      "The dictionary contains 5608 terms\n"
     ]
    }
   ],
   "source": [
    "# Create an instance\n",
    "wiki_wiki = wikipediaapi.Wikipedia('en')\n",
    "\n",
    "categories = ['Mathematics', 'Economics', 'Philosophy', 'Art']\n",
    "\n",
    "target = ['Areas of mathematics', 'Wall Street']\n",
    "\n",
    "categories += target\n",
    "\n",
    "docs = []\n",
    "\n",
    "# Include the category definition as a list\n",
    "for cat in categories:\n",
    "    print(\"Getting definition of \", cat)\n",
    "    docs.append({cat: wiki_wiki.page(cat).text})\n",
    "\n",
    "print(\"Number of Documents: \", len(docs))\n",
    "\n",
    "wnl = WordNetLemmatizer()\n",
    "stopwords_en = stopwords.words('english')\n",
    "\n",
    "corpus_clean = []\n",
    "\n",
    "for doc in docs:\n",
    "    for val in doc.values():\n",
    "#         print(\"Tokenizing\", list(doc.keys())[0])\n",
    "        # Tokenize each text entry. \n",
    "        tokens_aux = word_tokenize(val)\n",
    "        tokens_filtered = [el.lower() for el in tokens_aux if el.isalnum()]\n",
    "        tokens_lemmatized = [wnl.lemmatize(el) for el in tokens_filtered]\n",
    "        tokens_clean = [token_aux for token_aux in tokens_lemmatized if token_aux not in stopwords_en]    \n",
    "        corpus_clean.append(tokens_clean)\n",
    "        \n",
    "\n",
    "print(\"\\nDone\\n\")\n",
    "# Delete digit tokens\n",
    "corpus_clean_no_number = []\n",
    "for n, corpus in enumerate(corpus_clean):\n",
    "#     print(\"Cleaning corpus\", list(docs[n].keys())[0])\n",
    "    corpus_clean_no_number.append([x for x in corpus if not (x.isdigit() or x[0] == '-' and x[1:].isdigit())])\n",
    "    \n",
    "    \n",
    "    \n",
    "# Creamos el diccionario de tokens y eliminamos los números\n",
    "D = gensim.corpora.Dictionary(corpus_clean_no_number)\n",
    "n_tokens = len(D)\n",
    "# print(\"\\nDictionary w/o numbers contains\", len(D), \"unique tokens\")\n",
    "\n",
    "# print('\\nFirst terms in the dictionary (not by frequency):')\n",
    "# for n in range(15):\n",
    "#     print(str(n), ':', D[n])\n",
    "    \n",
    "    \n",
    "no_below = 1\n",
    "no_above = .75 \n",
    "D.filter_extremes(no_below=no_below, no_above=no_above, keep_n=500000)\n",
    "n_tokens = len(D)\n",
    "# print(\"\\n\\nFiltering dictionary...\")\n",
    "# print('The dictionary contains', n_tokens, 'terms')\n",
    "# print('First terms in the dictionary:')\n",
    "# for n in range(10):\n",
    "#     print(str(n), ':', D[n])\n",
    "    \n",
    "    \n",
    "print('The dictionary contains', n_tokens, 'terms')    \n",
    "\n",
    "\n",
    "corpus_bow = [D.doc2bow(doc) for doc in corpus_clean]"
   ]
  },
  {
   "cell_type": "code",
   "execution_count": 173,
   "metadata": {},
   "outputs": [
    {
     "data": {
      "text/plain": [
       "<6x5608 sparse matrix of type '<class 'numpy.float64'>'\n",
       "\twith 8266 stored elements in COOrdinate format>"
      ]
     },
     "execution_count": 173,
     "metadata": {},
     "output_type": "execute_result"
    }
   ],
   "source": [
    "F = np.zeros([len(categories), len(D)])\n",
    "\n",
    "for row, article in enumerate(corpus_bow):\n",
    "    article = np.array(article)\n",
    "    F[row, article[:, 0]] = article[:, 1]\n",
    "    \n",
    "F = sparse.coo_matrix(F)\n",
    "F"
   ]
  },
  {
   "cell_type": "code",
   "execution_count": 174,
   "metadata": {},
   "outputs": [
    {
     "name": "stdout",
     "output_type": "stream",
     "text": [
      "Sum of all the articles elements:  8266\n"
     ]
    }
   ],
   "source": [
    "a = 0\n",
    "for x in corpus_bow:\n",
    "    a += len(x)\n",
    "print(\"Sum of all the articles elements: \",  a)"
   ]
  },
  {
   "cell_type": "code",
   "execution_count": 175,
   "metadata": {},
   "outputs": [
    {
     "name": "stdout",
     "output_type": "stream",
     "text": [
      "(6, 5608)\n",
      "(4404, 4404)\n",
      "<class 'scipy.sparse.coo.coo_matrix'>\n",
      "<class 'scipy.sparse.coo.coo_matrix'>\n"
     ]
    }
   ],
   "source": [
    "print(F.shape)\n",
    "print(Kw.shape)\n",
    "\n",
    "print(type(Kw))\n",
    "print(type(F))\n",
    "\n"
   ]
  },
  {
   "cell_type": "markdown",
   "metadata": {},
   "source": [
    "# Compute the doc similarity matrix, $S$  \n",
    "\n",
    "where $n$ indicates the degree........"
   ]
  },
  {
   "cell_type": "code",
   "execution_count": 176,
   "metadata": {},
   "outputs": [
    {
     "name": "stdout",
     "output_type": "stream",
     "text": [
      "[[1.         0.09826689 0.1367654  0.12139826 0.50254758 0.02911885]\n",
      " [0.09826689 1.         0.05202693 0.12677572 0.0515606  0.1330286 ]\n",
      " [0.1367654  0.05202693 1.         0.19121305 0.03695151 0.02256134]\n",
      " [0.12139826 0.12677572 0.19121305 1.         0.03766451 0.09110607]\n",
      " [0.50254758 0.0515606  0.03695151 0.03766451 1.         0.01092466]\n",
      " [0.02911885 0.1330286  0.02256134 0.09110607 0.01092466 1.        ]]\n"
     ]
    }
   ],
   "source": [
    "n = 0\n",
    "normalize = True\n",
    "# Compute (powered) similaritu matrix of the Y graph\n",
    "if n > 0:\n",
    "    Ky = copy.deepcopy(Kw)\n",
    "    for i in range(n-1):\n",
    "        Ky = Ky @ Kw\n",
    "    S = F @ Ky @ F.transpose()\n",
    "\n",
    "else:\n",
    "# Compute similarity matrix\n",
    "    S = F @ F.transpose()\n",
    "    # Normalization. This is done to make sure that the similarity of\n",
    "    # a node with itself is 1.\n",
    "    if normalize:\n",
    "        R = diags(1.0 / np.sqrt(csr_matrix.diagonal(S)))\n",
    "        S = R @ S @ R\n",
    "\n",
    "        \n",
    "        \n",
    "print(S.todense())\n"
   ]
  },
  {
   "cell_type": "code",
   "execution_count": 213,
   "metadata": {},
   "outputs": [
    {
     "name": "stdout",
     "output_type": "stream",
     "text": [
      "0\n",
      "Mathematics\n",
      "1\n",
      "Economics\n"
     ]
    }
   ],
   "source": [
    "for i in np.argmax(prediction, axis = 1):\n",
    "    print(categories[np.array(i[0, 0])])"
   ]
  },
  {
   "cell_type": "code",
   "execution_count": 217,
   "metadata": {},
   "outputs": [
    {
     "name": "stdout",
     "output_type": "stream",
     "text": [
      "[[0]\n",
      " [1]]\n",
      "['Mathematics', 'Economics']\n",
      "Real:  ['Areas of mathematics', 'Wall Street']\n"
     ]
    }
   ],
   "source": [
    "# Coger las filas que corresponden a artículos que queremos predecir\n",
    "prediction = S.todense()[-len(target):, :]\n",
    "\n",
    "# Eliminar los valores que corresponden a sí mismos (los ponemos a 0)\n",
    "prediction[np.isclose(prediction, 1)] = 0\n",
    "\n",
    "\n",
    "print(np.argmax(prediction, axis = 1))\n",
    "\n",
    "\n",
    "prediction = [categories[max[0, 0]] for max in np.argmax(prediction, axis = 1)]\n",
    "\n",
    "print(\"Predictetion:\", prediction)\n",
    "\n",
    "print(\"Real: \", target)"
   ]
  }
 ],
 "metadata": {
  "kernelspec": {
   "display_name": "Python 3",
   "language": "python",
   "name": "python3"
  },
  "language_info": {
   "codemirror_mode": {
    "name": "ipython",
    "version": 3
   },
   "file_extension": ".py",
   "mimetype": "text/x-python",
   "name": "python",
   "nbconvert_exporter": "python",
   "pygments_lexer": "ipython3",
   "version": "3.7.0"
  }
 },
 "nbformat": 4,
 "nbformat_minor": 2
}
